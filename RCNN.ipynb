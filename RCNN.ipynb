{
  "nbformat": 4,
  "nbformat_minor": 0,
  "metadata": {
    "colab": {
      "private_outputs": true,
      "provenance": []
    },
    "kernelspec": {
      "name": "python3",
      "display_name": "Python 3"
    },
    "language_info": {
      "name": "python"
    }
  },
  "cells": [
    {
      "cell_type": "code",
      "source": [
        "! wget https://cf-courses-data.s3.us.cloud-object-storage.appdomain.cloud/IBMDeveloperSkillsNetwork-CV0101EN-Coursera/images%20/images_part_5/DLguys.jpeg\n",
        "! wget https://www.ajot.com/images/uploads/article/quantas-car-v-plane-TAKE-OFF.jpg\n",
        "! wget https://cf-courses-data.s3.us.cloud-object-storage.appdomain.cloud/IBMDeveloperSkillsNetwork-CV0101EN-Coursera/images%20/images_part_5/istockphoto-187786732-612x612.jpeg\n",
        "! wget https://cdn.webrazzi.com/uploads/2015/03/andrew-ng1.jpg"
      ],
      "metadata": {
        "id": "uB4y1elUBu55"
      },
      "execution_count": null,
      "outputs": []
    },
    {
      "cell_type": "code",
      "source": [
        "!pip install -q condacolab\n",
        "import condacolab\n",
        "condacolab.install()"
      ],
      "metadata": {
        "id": "xGU6EZtNB0Jx"
      },
      "execution_count": null,
      "outputs": []
    },
    {
      "cell_type": "code",
      "source": [
        "! conda install pytorch=1.1.0 torchvision -c pytorch -y"
      ],
      "metadata": {
        "id": "fa1xmCSlB5XX"
      },
      "execution_count": null,
      "outputs": []
    },
    {
      "cell_type": "code",
      "source": [
        "\n",
        "import torchvision\n",
        "from torchvision import  transforms\n",
        "import torch\n",
        "from torch import no_grad"
      ],
      "metadata": {
        "id": "URUNWOtYCArC"
      },
      "execution_count": null,
      "outputs": []
    },
    {
      "cell_type": "code",
      "source": [
        "import requests"
      ],
      "metadata": {
        "id": "qFbjhSeBCGOQ"
      },
      "execution_count": null,
      "outputs": []
    },
    {
      "cell_type": "code",
      "source": [
        "import cv2\n",
        "import numpy as np\n",
        "from PIL import Image\n",
        "import matplotlib.pyplot as plt"
      ],
      "metadata": {
        "id": "Ikh9aLdbCItZ"
      },
      "execution_count": null,
      "outputs": []
    },
    {
      "cell_type": "code",
      "source": [
        "def get_predictions(pred, threshold=0.8, objects=None):\n",
        "    \"\"\"\n",
        "    This function will assign a string name to a predicted class and eliminate predictions whose likelihood  is under a threshold\n",
        "\n",
        "    pred: a list where each element contains a tuple that corresponds to information about  the different objects; Each element includes a tuple with the class yhat, probability of belonging to that class and the coordinates of the bounding box corresponding to the object\n",
        "    image : frozen surface\n",
        "    predicted_classes: a list where each element contains a tuple that corresponds to information about  the different objects; Each element includes a tuple with the class name, probability of belonging to that class and the coordinates of the bounding box corresponding to the object\n",
        "    thre\n",
        "    \"\"\"\n",
        "\n",
        "\n",
        "    predicted_classes= [(COCO_INSTANCE_CATEGORY_NAMES[i],p,[(box[0], box[1]), (box[2], box[3])]) for i,p,box in zip(list(pred[0]['labels'].numpy()),pred[0]['scores'].detach().numpy(),list(pred[0]['boxes'].detach().numpy()))]\n",
        "    predicted_classes=[  stuff  for stuff in predicted_classes  if stuff[1]>threshold ]\n",
        "\n",
        "    if objects  and predicted_classes :\n",
        "        predicted_classes=[ (name, p, box) for name, p, box in predicted_classes if name in  objects ]\n",
        "    return predicted_classes"
      ],
      "metadata": {
        "id": "LawcvQm1CLeA"
      },
      "execution_count": null,
      "outputs": []
    },
    {
      "cell_type": "code",
      "source": [
        "def draw_box(pred_class, img, rect_th=2, text_size=0.5, text_th=2, download_image=False, img_name=\"img\"):\n",
        "    \"\"\"\n",
        "    draws box around each object\n",
        "\n",
        "    predicted_classes: a list where each element contains a tuple that corresponds to information about the different objects; Each element includes a tuple with the class name, probability of belonging to that class and the coordinates of the bounding box corresponding to the object\n",
        "    image : frozen surface\n",
        "\n",
        "    \"\"\"\n",
        "    image = (np.clip(cv2.cvtColor(np.clip(img.numpy().transpose((1, 2, 0)), 0, 1), cv2.COLOR_RGB2BGR), 0, 1) * 255).astype(np.uint8).copy()\n",
        "\n",
        "    for predicted_class in pred_class:\n",
        "\n",
        "      label=predicted_class[0]\n",
        "      probability=predicted_class[1]\n",
        "      box=predicted_class[2]\n",
        "      t = round(box[0][0].tolist())\n",
        "      l = round(box[0][1].tolist())\n",
        "      r = round(box[1][0].tolist())\n",
        "      b = round(box[1][1].tolist())\n",
        "\n",
        "      # Giving brief information about rectange, class and probability.\n",
        "      from colorama import Fore\n",
        "      from colorama import Style\n",
        "      print(f\"\\nLabel: {Fore.GREEN}{label}{Style.RESET_ALL}\")\n",
        "      print(f\"Box coordinates: {t}, {l}, {r}, {b}\")\n",
        "      print(f\"Probability: {probability}\")\n",
        "\n",
        "      # Drawing rectangle and adding text on the picture based on their class and size.\n",
        "      cv2.rectangle(image, (t, l), (r, b), (0, 255, 0), rect_th)\n",
        "      cv2.rectangle(image, (t, l), (t+110, l+17), (255, 255, 255), -1)\n",
        "      cv2.putText(image, label, (t+10, l+12),  cv2.FONT_HERSHEY_SIMPLEX,\n",
        "                  text_size, (0,255,0), thickness=text_th)\n",
        "      cv2.putText(image, label+\": \"+str(round(probability, 2)),\n",
        "                  (t+10, l+12),  cv2.FONT_HERSHEY_SIMPLEX, text_size,\n",
        "                  (0, 255, 0),thickness=text_th)\n",
        "\n",
        "    # Plotting image\n",
        "    image = np.array(image)\n",
        "    plt.figure(figsize=(15, 10))\n",
        "    plt.imshow(cv2.cvtColor(image, cv2.COLOR_BGR2RGB))\n",
        "    if download_image:\n",
        "      plt.savefig(f'{img_name}.png')\n",
        "    else:\n",
        "      pass\n",
        "    plt.show()\n",
        "\n",
        "    del(img)\n",
        "    del(image)"
      ],
      "metadata": {
        "id": "PMZ7xtrECPEh"
      },
      "execution_count": null,
      "outputs": []
    },
    {
      "cell_type": "code",
      "source": [
        "def save_RAM(image_=False):\n",
        "    global image, img, pred\n",
        "    torch.cuda.empty_cache()\n",
        "    del(img)\n",
        "    del(pred)\n",
        "    if image_:\n",
        "        image.close()\n",
        "        del(image)"
      ],
      "metadata": {
        "id": "ORfG8jcMCSYA"
      },
      "execution_count": null,
      "outputs": []
    },
    {
      "cell_type": "code",
      "source": [
        "model_ = torchvision.models.detection.fasterrcnn_resnet50_fpn(pretrained=True)\n",
        "model_.eval()\n",
        "\n",
        "for name, param in model_.named_parameters():\n",
        "    param.requires_grad = False\n",
        "print(\"done\")"
      ],
      "metadata": {
        "id": "fcTJxUMACVJA"
      },
      "execution_count": null,
      "outputs": []
    },
    {
      "cell_type": "code",
      "source": [
        "def model(x):\n",
        "    with torch.no_grad():\n",
        "        yhat = model_(x)\n",
        "    return yhat"
      ],
      "metadata": {
        "id": "efeawZC8Cbo4"
      },
      "execution_count": null,
      "outputs": []
    },
    {
      "cell_type": "code",
      "source": [
        "COCO_INSTANCE_CATEGORY_NAMES = [\n",
        "    '__background__', 'person', 'bicycle', 'car', 'motorcycle', 'airplane', 'bus',\n",
        "    'train', 'truck', 'boat', 'traffic light', 'fire hydrant', 'N/A', 'stop sign',\n",
        "    'parking meter', 'bench', 'bird', 'cat', 'dog', 'horse', 'sheep', 'cow',\n",
        "    'elephant', 'bear', 'zebra', 'giraffe', 'N/A', 'backpack', 'umbrella', 'N/A', 'N/A',\n",
        "    'handbag', 'tie', 'suitcase', 'frisbee', 'skis', 'snowboard', 'sports ball',\n",
        "    'kite', 'baseball bat', 'baseball glove', 'skateboard', 'surfboard', 'tennis racket',\n",
        "    'bottle', 'N/A', 'wine glass', 'cup', 'fork', 'knife', 'spoon', 'bowl',\n",
        "    'banana', 'apple', 'sandwich', 'orange', 'broccoli', 'carrot', 'hot dog', 'pizza',\n",
        "    'donut', 'cake', 'chair', 'couch', 'potted plant', 'bed', 'N/A', 'dining table',\n",
        "    'N/A', 'N/A', 'toilet', 'N/A', 'tv', 'laptop', 'mouse', 'remote', 'keyboard', 'cell phone',\n",
        "    'microwave', 'oven', 'toaster', 'sink', 'refrigerator', 'N/A', 'book',\n",
        "    'clock', 'vase', 'scissors', 'teddy bear', 'hair drier', 'toothbrush'\n",
        "]\n",
        "len(COCO_INSTANCE_CATEGORY_NAMES)"
      ],
      "metadata": {
        "id": "XdD1b_drClQL"
      },
      "execution_count": null,
      "outputs": []
    },
    {
      "cell_type": "code",
      "source": [
        "from google.colab import drive\n",
        "drive.mount('/gdrive')\n",
        "%cd /gdrive"
      ],
      "metadata": {
        "id": "9uG4s855Dlzg"
      },
      "execution_count": null,
      "outputs": []
    },
    {
      "cell_type": "code",
      "source": [
        "img_path='/content/drive/MyDrive/Traffic_jam.jpg'\n",
        "image = Image.open(img_path)\n",
        "half=0.5\n",
        "image.resize( [int(half * s) for s in image.size])\n",
        "plt.figure(figsize=(15, 10))\n",
        "plt.imshow(np.array(image))\n",
        "plt.show()\n",
        "del img_path"
      ],
      "metadata": {
        "id": "AwkWbwYmFjaA"
      },
      "execution_count": null,
      "outputs": []
    },
    {
      "cell_type": "code",
      "source": [
        "transform = transforms.Compose([transforms.ToTensor()])"
      ],
      "metadata": {
        "id": "Y0oBF-VLGGMY"
      },
      "execution_count": null,
      "outputs": []
    },
    {
      "cell_type": "code",
      "source": [
        "img = transform(image)\n",
        "pred = model([img])\n",
        "pred_thresh=get_predictions(pred,threshold=0.97)\n",
        "draw_box(pred_thresh,img,rect_th=1, text_size=1, text_th=1, download_image=True, img_name=\"/content/drive/MyDrive/Traffic_jam_BOX\")\n",
        "\n",
        "del pred_thresh"
      ],
      "metadata": {
        "id": "fxSNRXXVF0to"
      },
      "execution_count": null,
      "outputs": []
    }
  ]
}