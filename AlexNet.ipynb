{
  "nbformat": 4,
  "nbformat_minor": 0,
  "metadata": {
    "colab": {
      "private_outputs": true,
      "provenance": []
    },
    "kernelspec": {
      "name": "python3",
      "display_name": "Python 3"
    },
    "language_info": {
      "name": "python"
    }
  },
  "cells": [
    {
      "cell_type": "code",
      "execution_count": null,
      "metadata": {
        "id": "79ug7RYq_LS4"
      },
      "outputs": [],
      "source": [
        "#!/usr/bin/env python\n",
        "# coding: utf-8\n",
        "\n",
        "# In[ ]:\n",
        "\n",
        "\n",
        "import keras\n",
        "from keras.datasets import cifar10\n",
        "from keras.optimizers import SGD\n",
        "# from tensorflow.keras.preprocessing.image import ImageDataGenerator\n",
        "from tensorflow.keras.preprocessing.image import ImageDataGenerator\n",
        "from keras.models import Sequential\n",
        "from keras.layers import Dense, Dropout, Activation, Flatten\n",
        "from keras.layers import Conv2D, MaxPooling2D, ZeroPadding2D, BatchNormalization\n",
        "\n",
        "##################################################################################\n",
        "resize=227\n",
        "# AlexNet\n",
        "model = Sequential()\n",
        "\n",
        "# part 1\n",
        "model.add(Conv2D(filters=96, kernel_size=(11,11),\n",
        "                 strides=(4,4), padding='valid',\n",
        "                 input_shape=(resize,resize,3),\n",
        "                 activation='relu'))\n",
        "model.add(BatchNormalization())\n",
        "model.add(MaxPooling2D(pool_size=(3,3),\n",
        "                       strides=(2,2),\n",
        "                       padding='valid'))\n",
        "# part 2\n",
        "model.add(Conv2D(filters=256, kernel_size=(5,5),\n",
        "                 strides=(1,1), padding='same',\n",
        "                 activation='relu'))\n",
        "model.add(BatchNormalization())\n",
        "model.add(MaxPooling2D(pool_size=(3,3),\n",
        "                       strides=(2,2),\n",
        "                       padding='valid'))\n",
        "# part 3\n",
        "model.add(Conv2D(filters=384, kernel_size=(3,3),\n",
        "                 strides=(1,1), padding='same',\n",
        "                 activation='relu'))\n",
        "model.add(Conv2D(filters=384, kernel_size=(3,3),\n",
        "                 strides=(1,1), padding='same',\n",
        "                 activation='relu'))\n",
        "model.add(Conv2D(filters=256, kernel_size=(3,3),\n",
        "                 strides=(1,1), padding='same',\n",
        "                 activation='relu'))\n",
        "model.add(MaxPooling2D(pool_size=(3,3),\n",
        "                       strides=(2,2), padding='valid'))\n",
        "# part 4\n",
        "model.add(Flatten())\n",
        "model.add(Dense(4096, activation='relu'))\n",
        "model.add(Dropout(0.5))\n",
        "\n",
        "model.add(Dense(4096, activation='relu'))\n",
        "model.add(Dropout(0.5))\n",
        "\n",
        "model.add(Dense(1000, activation='relu'))\n",
        "model.add(Dropout(0.5))\n",
        "\n",
        "# Output Layer\n",
        "model.add(Dense(2))\n",
        "model.add(Activation('softmax'))\n",
        "\n",
        "model.compile(loss='categorical_crossentropy',\n",
        "              optimizer='sgd',\n",
        "              metrics=['accuracy'])\n",
        "\n",
        "model.summary()"
      ]
    }
  ]
}